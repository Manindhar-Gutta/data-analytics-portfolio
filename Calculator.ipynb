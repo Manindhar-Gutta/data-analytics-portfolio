{
 "cells": [
  {
   "cell_type": "markdown",
   "metadata": {},
   "source": [
    "# Program to make simple calculator\n"
   ]
  },
  {
   "cell_type": "code",
   "execution_count": 17,
   "metadata": {},
   "outputs": [
    {
     "name": "stdout",
     "output_type": "stream",
     "text": [
      "Select Operator\n",
      "       1.Add\n",
      "       2.subtract\n",
      "       3.multiply\n",
      "       4.Divide\n",
      "25.0 * 85.0 = 2125.0\n"
     ]
    }
   ],
   "source": [
    "print(\"\"\"Select Operator\n",
    "       1.Add\n",
    "       2.subtract\n",
    "       3.multiply\n",
    "       4.Divide\"\"\")\n",
    "#take input from the user\n",
    "choice = int(input(\"Enter choice {1/2/3/4}: \"))\n",
    "\n",
    "if choice in [1,2,3,4]:\n",
    "    num1 = float(input(\"Enter the first number: \"))\n",
    "    num2 = float(input(\"Enter the Second number: \"))\n",
    "    if choice == 1:\n",
    "        print(f'{num1} + {num2} = {num1 + num2}')\n",
    "    elif choice == 2:\n",
    "        print(f'{num1} - {num2} = {num1 - num2}')\n",
    "    elif choice == 3:\n",
    "        print(f'{num1} * {num2} = {num1 * num2}')\n",
    "    elif choice == 4:\n",
    "        print(f'{num1} / {num2} = {num1 / num2}')"
   ]
  }
 ],
 "metadata": {
  "kernelspec": {
   "display_name": "Python 3.10.7 64-bit",
   "language": "python",
   "name": "python3"
  },
  "language_info": {
   "codemirror_mode": {
    "name": "ipython",
    "version": 3
   },
   "file_extension": ".py",
   "mimetype": "text/x-python",
   "name": "python",
   "nbconvert_exporter": "python",
   "pygments_lexer": "ipython3",
   "version": "3.10.7"
  },
  "orig_nbformat": 4,
  "vscode": {
   "interpreter": {
    "hash": "74a2c1e00f9696f898f0be0258ab03102fc98ae2d7eb44bb36c076aa41629d16"
   }
  }
 },
 "nbformat": 4,
 "nbformat_minor": 2
}
